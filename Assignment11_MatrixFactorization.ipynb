{
 "cells": [
  {
   "cell_type": "code",
   "execution_count": 1,
   "id": "9a82e19a-b83a-4eb9-9b22-8fbc44412662",
   "metadata": {},
   "outputs": [],
   "source": [
    "import pandas as pd\n",
    "import numpy as np"
   ]
  },
  {
   "cell_type": "code",
   "execution_count": 2,
   "id": "016196de-2771-448d-a221-14769c132906",
   "metadata": {},
   "outputs": [],
   "source": [
    "data = pd.read_csv(\"rating.csv\")"
   ]
  },
  {
   "cell_type": "code",
   "execution_count": 3,
   "id": "4a977759-5309-48b6-8b9e-d5d377d84e1d",
   "metadata": {},
   "outputs": [
    {
     "name": "stdout",
     "output_type": "stream",
     "text": [
      "Ratings Data info: \n",
      "<class 'pandas.core.frame.DataFrame'>\n",
      "RangeIndex: 20000263 entries, 0 to 20000262\n",
      "Data columns (total 4 columns):\n",
      " #   Column     Dtype  \n",
      "---  ------     -----  \n",
      " 0   userId     int64  \n",
      " 1   movieId    int64  \n",
      " 2   rating     float64\n",
      " 3   timestamp  object \n",
      "dtypes: float64(1), int64(2), object(1)\n",
      "memory usage: 610.4+ MB\n"
     ]
    }
   ],
   "source": [
    "print(\"Ratings Data info: \")\n",
    "data.info()"
   ]
  },
  {
   "cell_type": "code",
   "execution_count": 4,
   "id": "a9a6c808-610e-4aae-9341-9e463923b9d4",
   "metadata": {},
   "outputs": [
    {
     "data": {
      "text/html": [
       "<div>\n",
       "<style scoped>\n",
       "    .dataframe tbody tr th:only-of-type {\n",
       "        vertical-align: middle;\n",
       "    }\n",
       "\n",
       "    .dataframe tbody tr th {\n",
       "        vertical-align: top;\n",
       "    }\n",
       "\n",
       "    .dataframe thead th {\n",
       "        text-align: right;\n",
       "    }\n",
       "</style>\n",
       "<table border=\"1\" class=\"dataframe\">\n",
       "  <thead>\n",
       "    <tr style=\"text-align: right;\">\n",
       "      <th></th>\n",
       "      <th>userId</th>\n",
       "      <th>movieId</th>\n",
       "      <th>rating</th>\n",
       "      <th>timestamp</th>\n",
       "    </tr>\n",
       "  </thead>\n",
       "  <tbody>\n",
       "    <tr>\n",
       "      <th>0</th>\n",
       "      <td>1</td>\n",
       "      <td>2</td>\n",
       "      <td>3.5</td>\n",
       "      <td>2005-04-02 23:53:47</td>\n",
       "    </tr>\n",
       "    <tr>\n",
       "      <th>1</th>\n",
       "      <td>1</td>\n",
       "      <td>29</td>\n",
       "      <td>3.5</td>\n",
       "      <td>2005-04-02 23:31:16</td>\n",
       "    </tr>\n",
       "    <tr>\n",
       "      <th>2</th>\n",
       "      <td>1</td>\n",
       "      <td>32</td>\n",
       "      <td>3.5</td>\n",
       "      <td>2005-04-02 23:33:39</td>\n",
       "    </tr>\n",
       "    <tr>\n",
       "      <th>3</th>\n",
       "      <td>1</td>\n",
       "      <td>47</td>\n",
       "      <td>3.5</td>\n",
       "      <td>2005-04-02 23:32:07</td>\n",
       "    </tr>\n",
       "    <tr>\n",
       "      <th>4</th>\n",
       "      <td>1</td>\n",
       "      <td>50</td>\n",
       "      <td>3.5</td>\n",
       "      <td>2005-04-02 23:29:40</td>\n",
       "    </tr>\n",
       "  </tbody>\n",
       "</table>\n",
       "</div>"
      ],
      "text/plain": [
       "   userId  movieId  rating            timestamp\n",
       "0       1        2     3.5  2005-04-02 23:53:47\n",
       "1       1       29     3.5  2005-04-02 23:31:16\n",
       "2       1       32     3.5  2005-04-02 23:33:39\n",
       "3       1       47     3.5  2005-04-02 23:32:07\n",
       "4       1       50     3.5  2005-04-02 23:29:40"
      ]
     },
     "execution_count": 4,
     "metadata": {},
     "output_type": "execute_result"
    }
   ],
   "source": [
    "data.head()"
   ]
  },
  {
   "cell_type": "code",
   "execution_count": 5,
   "id": "1ad2ceee-1b0a-464d-9238-fd7c59d18b60",
   "metadata": {},
   "outputs": [],
   "source": [
    "movies_data  = pd.read_csv(\"movie.csv\")"
   ]
  },
  {
   "cell_type": "code",
   "execution_count": 6,
   "id": "4a593dad-c3dd-44c7-b2e2-780f29de16ce",
   "metadata": {},
   "outputs": [
    {
     "name": "stdout",
     "output_type": "stream",
     "text": [
      "Movies Data info: \n",
      "<class 'pandas.core.frame.DataFrame'>\n",
      "RangeIndex: 27278 entries, 0 to 27277\n",
      "Data columns (total 3 columns):\n",
      " #   Column   Non-Null Count  Dtype \n",
      "---  ------   --------------  ----- \n",
      " 0   movieId  27278 non-null  int64 \n",
      " 1   title    27278 non-null  object\n",
      " 2   genres   27278 non-null  object\n",
      "dtypes: int64(1), object(2)\n",
      "memory usage: 639.5+ KB\n"
     ]
    }
   ],
   "source": [
    "print(\"Movies Data info: \")\n",
    "movies_data.info()"
   ]
  },
  {
   "cell_type": "code",
   "execution_count": 7,
   "id": "7d2d2ee4-f4d7-4bcb-8c48-b15ea894001c",
   "metadata": {},
   "outputs": [
    {
     "data": {
      "text/html": [
       "<div>\n",
       "<style scoped>\n",
       "    .dataframe tbody tr th:only-of-type {\n",
       "        vertical-align: middle;\n",
       "    }\n",
       "\n",
       "    .dataframe tbody tr th {\n",
       "        vertical-align: top;\n",
       "    }\n",
       "\n",
       "    .dataframe thead th {\n",
       "        text-align: right;\n",
       "    }\n",
       "</style>\n",
       "<table border=\"1\" class=\"dataframe\">\n",
       "  <thead>\n",
       "    <tr style=\"text-align: right;\">\n",
       "      <th></th>\n",
       "      <th>movieId</th>\n",
       "      <th>title</th>\n",
       "      <th>genres</th>\n",
       "    </tr>\n",
       "  </thead>\n",
       "  <tbody>\n",
       "    <tr>\n",
       "      <th>0</th>\n",
       "      <td>1</td>\n",
       "      <td>Toy Story (1995)</td>\n",
       "      <td>Adventure|Animation|Children|Comedy|Fantasy</td>\n",
       "    </tr>\n",
       "    <tr>\n",
       "      <th>1</th>\n",
       "      <td>2</td>\n",
       "      <td>Jumanji (1995)</td>\n",
       "      <td>Adventure|Children|Fantasy</td>\n",
       "    </tr>\n",
       "    <tr>\n",
       "      <th>2</th>\n",
       "      <td>3</td>\n",
       "      <td>Grumpier Old Men (1995)</td>\n",
       "      <td>Comedy|Romance</td>\n",
       "    </tr>\n",
       "    <tr>\n",
       "      <th>3</th>\n",
       "      <td>4</td>\n",
       "      <td>Waiting to Exhale (1995)</td>\n",
       "      <td>Comedy|Drama|Romance</td>\n",
       "    </tr>\n",
       "    <tr>\n",
       "      <th>4</th>\n",
       "      <td>5</td>\n",
       "      <td>Father of the Bride Part II (1995)</td>\n",
       "      <td>Comedy</td>\n",
       "    </tr>\n",
       "  </tbody>\n",
       "</table>\n",
       "</div>"
      ],
      "text/plain": [
       "   movieId                               title  \\\n",
       "0        1                    Toy Story (1995)   \n",
       "1        2                      Jumanji (1995)   \n",
       "2        3             Grumpier Old Men (1995)   \n",
       "3        4            Waiting to Exhale (1995)   \n",
       "4        5  Father of the Bride Part II (1995)   \n",
       "\n",
       "                                        genres  \n",
       "0  Adventure|Animation|Children|Comedy|Fantasy  \n",
       "1                   Adventure|Children|Fantasy  \n",
       "2                               Comedy|Romance  \n",
       "3                         Comedy|Drama|Romance  \n",
       "4                                       Comedy  "
      ]
     },
     "execution_count": 7,
     "metadata": {},
     "output_type": "execute_result"
    }
   ],
   "source": [
    "movies_data.head()"
   ]
  },
  {
   "cell_type": "code",
   "execution_count": 8,
   "id": "0210247e-1dce-4a9b-9d69-271cf9489d90",
   "metadata": {},
   "outputs": [],
   "source": [
    "# Sample 100 random records from the movies dataset\n",
    "# The `random_state=42` ensures that the sample is reproducible\n",
    "# Every time the code runs with this seed, the same 100 records will be sampled\n",
    "movies_sample = movies_data.sample(n=100, random_state=42)"
   ]
  },
  {
   "cell_type": "code",
   "execution_count": 9,
   "id": "dda14a2c-c075-4837-8965-c9e08b4bbf0b",
   "metadata": {},
   "outputs": [],
   "source": [
    "# Filter the ratings dataset to include only ratings for movies that are in the sampled movies dataset\n",
    "# `ratings.movieId.isin(movies_sample.movieId)` creates a boolean mask to filter rows where movieId is in the sampled movies\n",
    "# `.groupby('movieId').head(100)` ensures that only up to 100 ratings per movie␣are kept in case there are more than 100 ratings for a movie\n",
    "ratings_sample = data[data.movieId.isin(movies_sample.movieId)].groupby('movieId').head(100)"
   ]
  },
  {
   "cell_type": "code",
   "execution_count": 10,
   "id": "e5f532d5-3e26-41aa-97a9-86f27cef6bc8",
   "metadata": {},
   "outputs": [],
   "source": [
    "# Merge the filtered ratings dataset with the sampled movies dataset\n",
    "# This combines the ratings and movies DataFrames based on the common 'movieId' column\n",
    "# The result is a DataFrame containing ratings along with movie titles and genres for the sampled movies\n",
    "merged_df = pd.merge(ratings_sample, movies_sample, on='movieId')"
   ]
  },
  {
   "cell_type": "code",
   "execution_count": 11,
   "id": "d3ed3f9e-00e6-406c-a955-5abe05a4ffae",
   "metadata": {},
   "outputs": [
    {
     "name": "stdout",
     "output_type": "stream",
     "text": [
      "   userId  movieId  rating            timestamp  \\\n",
      "0       1     2021     4.0  2005-04-02 23:52:09   \n",
      "1       3     2366     4.0  1999-12-11 13:18:30   \n",
      "2       7     2195     2.0  2002-01-16 18:36:28   \n",
      "3      11     1255     4.0  2009-01-01 05:00:24   \n",
      "4      11    35836     5.0  2009-01-01 04:18:02   \n",
      "\n",
      "                            title                           genres  \n",
      "0                     Dune (1984)                 Adventure|Sci-Fi  \n",
      "1                King Kong (1933)  Action|Adventure|Fantasy|Horror  \n",
      "2               Dirty Work (1998)                           Comedy  \n",
      "3                Bad Taste (1987)             Comedy|Horror|Sci-Fi  \n",
      "4  40-Year-Old Virgin, The (2005)                   Comedy|Romance  \n"
     ]
    }
   ],
   "source": [
    "# Print the first few rows of the merged DataFrame\n",
    "# This allows us to verify the results of the merge operation and inspect the combined data\n",
    "print(merged_df.head())"
   ]
  },
  {
   "cell_type": "code",
   "execution_count": 12,
   "id": "e3545a7e-7314-4a9e-973c-51c2dee59ab7",
   "metadata": {},
   "outputs": [],
   "source": [
    "# Create a user-item matrix from the merged DataFrame\n",
    "# This matrix has users as rows and movies as columns, with ratings as the values\n",
    "# `index='userId'` specifies that rows should be indexed by user IDs\n",
    "# `columns='movieId'` specifies that columns should be based on movie IDs\n",
    "# `values='rating'` specifies that the matrix values should be the ratings\n",
    "# `.fillna(0)` replaces missing values (NaNs) with 0, assuming unrated movies should have a rating of 0\n",
    "user_item_matrix = merged_df.pivot_table(index='userId', columns='movieId',values='rating').fillna(0)"
   ]
  },
  {
   "cell_type": "code",
   "execution_count": 13,
   "id": "166909b3-322f-4d71-8934-6b04e51d61cd",
   "metadata": {},
   "outputs": [],
   "source": [
    "# Convert the user-item matrix (a DataFrame) to a NumPy array\n",
    "# This is done to facilitate matrix factorization, which often works with NumPy arrays\n",
    "# `user_item_matrix.values` extracts the underlying NumPy array from the DataFrame\n",
    "R = user_item_matrix.values"
   ]
  },
  {
   "cell_type": "code",
   "execution_count": 14,
   "id": "54c04634-bdad-43f7-9203-a16816fe21db",
   "metadata": {},
   "outputs": [
    {
     "name": "stdout",
     "output_type": "stream",
     "text": [
      "User-Item Matrix Info:\n",
      "<class 'pandas.core.frame.DataFrame'>\n",
      "Index: 2801 entries, 1 to 138339\n",
      "Data columns (total 99 columns):\n",
      " #   Column  Non-Null Count  Dtype  \n",
      "---  ------  --------------  -----  \n",
      " 0   585     2801 non-null   float64\n",
      " 1   1110    2801 non-null   float64\n",
      " 2   1255    2801 non-null   float64\n",
      " 3   1488    2801 non-null   float64\n",
      " 4   1496    2801 non-null   float64\n",
      " 5   1645    2801 non-null   float64\n",
      " 6   2021    2801 non-null   float64\n",
      " 7   2043    2801 non-null   float64\n",
      " 8   2195    2801 non-null   float64\n",
      " 9   2366    2801 non-null   float64\n",
      " 10  3455    2801 non-null   float64\n",
      " 11  3869    2801 non-null   float64\n",
      " 12  4281    2801 non-null   float64\n",
      " 13  4514    2801 non-null   float64\n",
      " 14  4755    2801 non-null   float64\n",
      " 15  4834    2801 non-null   float64\n",
      " 16  5515    2801 non-null   float64\n",
      " 17  5848    2801 non-null   float64\n",
      " 18  6219    2801 non-null   float64\n",
      " 19  6590    2801 non-null   float64\n",
      " 20  7621    2801 non-null   float64\n",
      " 21  8380    2801 non-null   float64\n",
      " 22  8702    2801 non-null   float64\n",
      " 23  8839    2801 non-null   float64\n",
      " 24  8880    2801 non-null   float64\n",
      " 25  25886   2801 non-null   float64\n",
      " 26  26630   2801 non-null   float64\n",
      " 27  30695   2801 non-null   float64\n",
      " 28  33126   2801 non-null   float64\n",
      " 29  33683   2801 non-null   float64\n",
      " 30  35836   2801 non-null   float64\n",
      " 31  40833   2801 non-null   float64\n",
      " 32  44840   2801 non-null   float64\n",
      " 33  54144   2801 non-null   float64\n",
      " 34  54542   2801 non-null   float64\n",
      " 35  55476   2801 non-null   float64\n",
      " 36  56508   2801 non-null   float64\n",
      " 37  58287   2801 non-null   float64\n",
      " 38  58810   2801 non-null   float64\n",
      " 39  60421   2801 non-null   float64\n",
      " 40  60979   2801 non-null   float64\n",
      " 41  61116   2801 non-null   float64\n",
      " 42  63692   2801 non-null   float64\n",
      " 43  64032   2801 non-null   float64\n",
      " 44  67298   2801 non-null   float64\n",
      " 45  67459   2801 non-null   float64\n",
      " 46  68664   2801 non-null   float64\n",
      " 47  69951   2801 non-null   float64\n",
      " 48  70697   2801 non-null   float64\n",
      " 49  72032   2801 non-null   float64\n",
      " 50  72378   2801 non-null   float64\n",
      " 51  72512   2801 non-null   float64\n",
      " 52  73125   2801 non-null   float64\n",
      " 53  73718   2801 non-null   float64\n",
      " 54  74448   2801 non-null   float64\n",
      " 55  76772   2801 non-null   float64\n",
      " 56  78629   2801 non-null   float64\n",
      " 57  82978   2801 non-null   float64\n",
      " 58  83316   2801 non-null   float64\n",
      " 59  83601   2801 non-null   float64\n",
      " 60  84276   2801 non-null   float64\n",
      " 61  84540   2801 non-null   float64\n",
      " 62  85387   2801 non-null   float64\n",
      " 63  87992   2801 non-null   float64\n",
      " 64  88131   2801 non-null   float64\n",
      " 65  88419   2801 non-null   float64\n",
      " 66  88543   2801 non-null   float64\n",
      " 67  93014   2801 non-null   float64\n",
      " 68  94482   2801 non-null   float64\n",
      " 69  94817   2801 non-null   float64\n",
      " 70  96062   2801 non-null   float64\n",
      " 71  99843   2801 non-null   float64\n",
      " 72  101904  2801 non-null   float64\n",
      " 73  102171  2801 non-null   float64\n",
      " 74  103235  2801 non-null   float64\n",
      " 75  103974  2801 non-null   float64\n",
      " 76  104881  2801 non-null   float64\n",
      " 77  105189  2801 non-null   float64\n",
      " 78  106072  2801 non-null   float64\n",
      " 79  107551  2801 non-null   float64\n",
      " 80  107713  2801 non-null   float64\n",
      " 81  107767  2801 non-null   float64\n",
      " 82  110769  2801 non-null   float64\n",
      " 83  110850  2801 non-null   float64\n",
      " 84  111347  2801 non-null   float64\n",
      " 85  111931  2801 non-null   float64\n",
      " 86  113152  2801 non-null   float64\n",
      " 87  114240  2801 non-null   float64\n",
      " 88  115885  2801 non-null   float64\n",
      " 89  119161  2801 non-null   float64\n",
      " 90  120124  2801 non-null   float64\n",
      " 91  124430  2801 non-null   float64\n",
      " 92  126064  2801 non-null   float64\n",
      " 93  126245  2801 non-null   float64\n",
      " 94  127100  2801 non-null   float64\n",
      " 95  127272  2801 non-null   float64\n",
      " 96  127313  2801 non-null   float64\n",
      " 97  129699  2801 non-null   float64\n",
      " 98  130850  2801 non-null   float64\n",
      "dtypes: float64(99)\n",
      "memory usage: 2.1 MB\n",
      "None\n"
     ]
    }
   ],
   "source": [
    "# Print information about the user-item matrix\n",
    "# This includes details such as the data types, number of entries, and memory usage\n",
    "# It helps in verifying the structure and content of the matrix\n",
    "print(\"User-Item Matrix Info:\")\n",
    "print(user_item_matrix.info())"
   ]
  },
  {
   "cell_type": "code",
   "execution_count": 15,
   "id": "178c47f1-168d-483a-b3e4-fe778f7a4dce",
   "metadata": {},
   "outputs": [
    {
     "name": "stdout",
     "output_type": "stream",
     "text": [
      "\n",
      "User-Item Matrix Head:\n",
      "movieId  585     1110    1255    1488    1496    1645    2021    2043    \\\n",
      "userId                                                                    \n",
      "1           0.0     0.0     0.0     0.0     0.0     0.0     4.0     0.0   \n",
      "3           0.0     0.0     0.0     0.0     0.0     0.0     0.0     0.0   \n",
      "7           0.0     0.0     0.0     0.0     0.0     0.0     0.0     0.0   \n",
      "11          0.0     0.0     4.0     0.0     0.0     0.0     0.0     0.0   \n",
      "12          3.0     0.0     0.0     0.0     0.0     0.0     0.0     0.0   \n",
      "\n",
      "movieId  2195    2366    ...  119161  120124  124430  126064  126245  127100  \\\n",
      "userId                   ...                                                   \n",
      "1           0.0     0.0  ...     0.0     0.0     0.0     0.0     0.0     0.0   \n",
      "3           0.0     4.0  ...     0.0     0.0     0.0     0.0     0.0     0.0   \n",
      "7           2.0     0.0  ...     0.0     0.0     0.0     0.0     0.0     0.0   \n",
      "11          0.0     0.0  ...     0.0     0.0     0.0     0.0     0.0     0.0   \n",
      "12          0.0     0.0  ...     0.0     0.0     0.0     0.0     0.0     0.0   \n",
      "\n",
      "movieId  127272  127313  129699  130850  \n",
      "userId                                   \n",
      "1           0.0     0.0     0.0     0.0  \n",
      "3           0.0     0.0     0.0     0.0  \n",
      "7           0.0     0.0     0.0     0.0  \n",
      "11          0.0     0.0     0.0     0.0  \n",
      "12          0.0     0.0     0.0     0.0  \n",
      "\n",
      "[5 rows x 99 columns]\n"
     ]
    }
   ],
   "source": [
    "# Print the first few rows of the user-item matrix\n",
    "# This provides a snapshot of the matrix, showing how users and movies are represented and the ratings assigned\n",
    "# It helps to quickly verify the structure and initial data of the matrix\n",
    "print(\"\\nUser-Item Matrix Head:\")\n",
    "print(user_item_matrix.head())"
   ]
  },
  {
   "cell_type": "code",
   "execution_count": 16,
   "id": "ef451d2d-bbe5-4337-b62a-263ec994aac1",
   "metadata": {},
   "outputs": [],
   "source": [
    "def matrix_factorization(R, K, steps=50, alpha=0.0002, beta=0.02):\n",
    "    \"\"\"\n",
    "    Perform matrix factorization using stochastic gradient descent.\n",
    "    Parameters:\n",
    "    R (numpy array): User-item rating matrix (user x item).\n",
    "    K (int): Number of latent features.\n",
    "    steps (int): Number of iterations for the optimization.\n",
    "    alpha (float): Learning rate.\n",
    "    beta (float): Regularization parameter.\n",
    "    Returns:\n",
    "    P (numpy array): User feature matrix.\n",
    "    Q (numpy array): Item feature matrix.\n",
    "    \"\"\"\n",
    "    # Number of users (rows) and items (columns) in the rating matrix\n",
    "    N = len(R)\n",
    "    M = len(R[0])\n",
    "    \n",
    "    # Initialize user and item feature matrices with random values\n",
    "    P = np.random.rand(N, K)  # User feature matrix (N x K)\n",
    "    Q = np.random.rand(M, K)  # Item feature matrix (M x K)\n",
    "    \n",
    "    # Perform optimization over a number of steps\n",
    "    for step in range(steps):\n",
    "        # Update user and item matrices\n",
    "        for i in range(N):  # Loop over each user\n",
    "            for j in range(M):  # Loop over each item\n",
    "                if R[i][j] > 0:  # Only consider non-zero ratings\n",
    "                    # Compute prediction error for the current user-item pair\n",
    "                    eij = R[i][j] - np.dot(P[i, :], Q[j, :].T)\n",
    "                    # Update user and item feature matrices\n",
    "                    for k in range(K):  # Loop over each latent feature\n",
    "                        P[i][k] += alpha * (2 * eij * Q[j][k] - beta * P[i][k])\n",
    "                        Q[j][k] += alpha * (2 * eij * P[i][k] - beta * Q[j][k])\n",
    "        \n",
    "        # Compute the total error for the current iteration\n",
    "        error = 0\n",
    "        for i in range(N):  # Loop over each user\n",
    "            for j in range(M):  # Loop over each item\n",
    "                if R[i][j] > 0:  # Only consider non-zero ratings\n",
    "                    # Compute the squared error for the current user-item pair\n",
    "                    error += pow(R[i][j] - np.dot(P[i, :], Q[j, :].T), 2)\n",
    "                    # Add regularization terms to the error\n",
    "                    for k in range(K):  # Loop over each latent feature\n",
    "                        error += (beta / 2) * (pow(P[i][k], 2) + pow(Q[j][k], 2))\n",
    "        \n",
    "        # Break the loop if error is sufficiently low\n",
    "        if error < 0.001:\n",
    "            break\n",
    "    \n",
    "    # Return the final user and item feature matrices\n",
    "    return P, Q"
   ]
  },
  {
   "cell_type": "code",
   "execution_count": 17,
   "id": "16f7579f-0762-4798-a1a7-00df20e8021b",
   "metadata": {},
   "outputs": [],
   "source": [
    "# Number of latent features\n",
    "K = 2 # Set the number of latent features (dimensionality of the feature vectors) to 2\n",
    "# Perform matrix factorization\n",
    "P, Q = matrix_factorization(R, K, steps=50)\n",
    "# Call the matrix_factorization function to factorize the user-item matrix R into\n",
    "# user feature matrix P and item feature matrix Q using 2 latent features.\n",
    "# The function will run for 50 iterations."
   ]
  },
  {
   "cell_type": "code",
   "execution_count": 18,
   "id": "28b7e540-5711-4685-8bfa-352b910b7f84",
   "metadata": {},
   "outputs": [],
   "source": [
    "# Calculate predicted ratings\n",
    "predicted_R = np.dot(P, Q.T)"
   ]
  },
  {
   "cell_type": "code",
   "execution_count": 19,
   "id": "3c609612-bc5c-4866-a1a1-66a51bcecb8f",
   "metadata": {},
   "outputs": [
    {
     "name": "stdout",
     "output_type": "stream",
     "text": [
      "\n",
      "Predicted user-item rating matrix:\n",
      "[[2.72480392 2.23052504 3.8770461  ... 1.02955336 0.91750729 1.19881995]\n",
      " [1.79214457 1.35147532 2.83729464 ... 0.85584623 0.88645066 0.5588164 ]\n",
      " [1.26126379 0.96954757 1.95103518 ... 0.5738497  0.57876982 0.42987395]\n",
      " ...\n",
      " [0.91096341 0.73216845 1.32985844 ... 0.36514738 0.33991261 0.37387369]\n",
      " [2.05157346 1.62423785 3.05629725 ... 0.8604931  0.82592784 0.79296886]\n",
      " [1.01850733 0.8913433  1.30603663 ... 0.29579151 0.20193563 0.56255483]]\n"
     ]
    }
   ],
   "source": [
    "print(\"\\nPredicted user-item rating matrix:\")\n",
    "print(predicted_R)"
   ]
  },
  {
   "cell_type": "code",
   "execution_count": null,
   "id": "e4d4873f-6af9-4408-af1b-10f275a2fce6",
   "metadata": {},
   "outputs": [],
   "source": []
  }
 ],
 "metadata": {
  "kernelspec": {
   "display_name": "Python 3 (ipykernel)",
   "language": "python",
   "name": "python3"
  },
  "language_info": {
   "codemirror_mode": {
    "name": "ipython",
    "version": 3
   },
   "file_extension": ".py",
   "mimetype": "text/x-python",
   "name": "python",
   "nbconvert_exporter": "python",
   "pygments_lexer": "ipython3",
   "version": "3.10.11"
  }
 },
 "nbformat": 4,
 "nbformat_minor": 5
}
